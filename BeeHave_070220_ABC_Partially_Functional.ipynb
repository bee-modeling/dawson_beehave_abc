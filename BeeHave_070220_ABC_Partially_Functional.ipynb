{
 "cells": [
  {
   "cell_type": "code",
   "execution_count": 1,
   "metadata": {},
   "outputs": [],
   "source": [
    "from pyabc import (ABCSMC, Distribution, RV,\n",
    "                   MultivariateNormalTransition, AdaptivePNormDistance,\n",
    "                  PNormDistance, History, AdaptivePopulationSize)\n",
    "try:\n",
    "    from pyabc.visualization import kde_1d\n",
    "except:\n",
    "    from pyabc.visualization.kde import kde_1d  # location for newer versions of pyabc\n",
    "from pyabc.visualization import plot_kde_matrix\n",
    "from pyabc.sampler import DaskDistributedSampler, SingleCoreSampler\n",
    "from pyabc.transition import LocalTransition\n",
    "import pyabc.visualization\n",
    "import logging\n",
    "import scipy as sp\n",
    "import scipy.stats as st\n",
    "import tempfile\n",
    "import os\n",
    "import math\n",
    "import pandas as pd\n",
    "import matplotlib.pyplot as plt\n",
    "%matplotlib inline\n",
    "import numpy as np\n",
    "from dask.distributed import Client, LocalCluster\n",
    "import csv\n",
    "\n",
    "\n",
    "from tools.DataSimulator_BeeHaveV4_072020 import simulate"
   ]
  },
  {
   "cell_type": "markdown",
   "metadata": {},
   "source": [
    "### Setting up the pyabc run"
   ]
  },
  {
   "cell_type": "code",
   "execution_count": 3,
   "metadata": {},
   "outputs": [
    {
     "name": "stderr",
     "output_type": "stream",
     "text": [
      "C:\\Users\\TPurucke\\miniconda3\\envs\\occupational-exposure\\lib\\site-packages\\distributed\\node.py:151: UserWarning: Port 8787 is already in use.\n",
      "Perhaps you already have a cluster running?\n",
      "Hosting the HTTP server on port 64295 instead\n",
      "  warnings.warn(\n"
     ]
    }
   ],
   "source": [
    "# Initialize the dask cluster \n",
    "\n",
    "#help(LocalCluster)\n",
    "\n",
    "#c = LocalCluster(n_workers=(90/2), threads_per_worker = 2)  # Set for 96 vCPU compute instance\n",
    "\n",
    "c = LocalCluster(n_workers = 2, threads_per_worker = 1)  # Set for 96 vCPU compute instance\n",
    "\n",
    "client = Client(c,timeout=400)"
   ]
  },
  {
   "cell_type": "code",
   "execution_count": 4,
   "metadata": {
    "scrolled": true
   },
   "outputs": [
    {
     "ename": "FileNotFoundError",
     "evalue": "[Errno 2] No such file or directory: 'C:\\\\git\\\\beehave_abc\\\\data\\\\bee_counts\\\\data_adults_eggs.csv'",
     "output_type": "error",
     "traceback": [
      "\u001b[1;31m---------------------------------------------------------------------------\u001b[0m",
      "\u001b[1;31mFileNotFoundError\u001b[0m                         Traceback (most recent call last)",
      "\u001b[1;32m<ipython-input-4-1a238068009a>\u001b[0m in \u001b[0;36m<module>\u001b[1;34m\u001b[0m\n\u001b[0;32m      1\u001b[0m \u001b[1;31m# Read the study data into a dictionary; note the outputs from model will need to look like this  and be named the same\u001b[0m\u001b[1;33m\u001b[0m\u001b[1;33m\u001b[0m\u001b[1;33m\u001b[0m\u001b[0m\n\u001b[0;32m      2\u001b[0m \u001b[0mstudy_data_path\u001b[0m \u001b[1;33m=\u001b[0m \u001b[0mos\u001b[0m\u001b[1;33m.\u001b[0m\u001b[0mpath\u001b[0m\u001b[1;33m.\u001b[0m\u001b[0mabspath\u001b[0m\u001b[1;33m(\u001b[0m\u001b[1;34m'data/bee_counts/data_adults_eggs.csv'\u001b[0m\u001b[1;33m)\u001b[0m\u001b[1;33m\u001b[0m\u001b[1;33m\u001b[0m\u001b[0m\n\u001b[1;32m----> 3\u001b[1;33m \u001b[0mreader\u001b[0m \u001b[1;33m=\u001b[0m \u001b[0mcsv\u001b[0m\u001b[1;33m.\u001b[0m\u001b[0mreader\u001b[0m\u001b[1;33m(\u001b[0m\u001b[0mopen\u001b[0m\u001b[1;33m(\u001b[0m\u001b[0mstudy_data_path\u001b[0m\u001b[1;33m,\u001b[0m \u001b[1;34m'r'\u001b[0m\u001b[1;33m)\u001b[0m\u001b[1;33m)\u001b[0m\u001b[1;33m\u001b[0m\u001b[1;33m\u001b[0m\u001b[0m\n\u001b[0m\u001b[0;32m      4\u001b[0m \u001b[0mstudy_data\u001b[0m \u001b[1;33m=\u001b[0m \u001b[1;33m{\u001b[0m\u001b[1;33m}\u001b[0m\u001b[1;33m\u001b[0m\u001b[1;33m\u001b[0m\u001b[0m\n\u001b[0;32m      5\u001b[0m \u001b[1;32mfor\u001b[0m \u001b[0mrow\u001b[0m \u001b[1;32min\u001b[0m \u001b[0mreader\u001b[0m\u001b[1;33m:\u001b[0m\u001b[1;33m\u001b[0m\u001b[1;33m\u001b[0m\u001b[0m\n",
      "\u001b[1;31mFileNotFoundError\u001b[0m: [Errno 2] No such file or directory: 'C:\\\\git\\\\beehave_abc\\\\data\\\\bee_counts\\\\data_adults_eggs.csv'"
     ]
    },
    {
     "name": "stderr",
     "output_type": "stream",
     "text": [
      "Exception ignored in: <function Client.__del__ at 0x00000220FF49F430>\n",
      "Traceback (most recent call last):\n",
      "  File \"C:\\Users\\TPurucke\\miniconda3\\envs\\occupational-exposure\\lib\\site-packages\\distributed\\client.py\", line 1189, in __del__\n",
      "    self.close()\n",
      "  File \"C:\\Users\\TPurucke\\miniconda3\\envs\\occupational-exposure\\lib\\site-packages\\distributed\\client.py\", line 1408, in close\n",
      "    for pc in self._periodic_callbacks.values():\n",
      "AttributeError: 'Client' object has no attribute '_periodic_callbacks'\n"
     ]
    }
   ],
   "source": [
    "# Read the study data into a dictionary; note the outputs from model will need to look like this  and be named the same \n",
    "study_data_path = os.path.abspath('data/bee_counts/data_adults_eggs.csv')\n",
    "reader = csv.reader(open(study_data_path, 'r'))\n",
    "study_data = {}\n",
    "for row in reader:\n",
    "   k, v = row\n",
    "   study_data[k] = float(v)"
   ]
  },
  {
   "cell_type": "code",
   "execution_count": 4,
   "metadata": {},
   "outputs": [],
   "source": [
    "#Note, will add in more variables later, specifcally lifespan and egg laying rates. But for now, just vary the dose-response paramters. \n",
    "# Limits for the plots (accounts for the inverse log transform that pyabc will do with the results)\n",
    "limits = dict(AdultAcutePar1=(0.0001, 0.1),\n",
    "              AdultAcutePar2=(-9, -1),\n",
    "              LarvaAcutePar1=(0.0001, 0.1),\n",
    "              LarvaAcutePar2=(-9, -1))\n",
    "\n",
    "\n",
    "priors = dict(AdultAcutePar1=(0.0001, 0.1),\n",
    "              AdultAcutePar2=(-9, -1),\n",
    "              LarvaAcutePar1=(0.0001, 0.1),\n",
    "              LarvaAcutePar2=(-9, -1))\n",
    "\n",
    "prior = Distribution(**{key: RV(\"uniform\", a, b - a) #This creates a range\n",
    "                        for key, (a,b) in priors.items()})\n",
    "\n"
   ]
  },
  {
   "cell_type": "code",
   "execution_count": 5,
   "metadata": {},
   "outputs": [
    {
     "data": {
      "text/plain": [
       "{'AdultAcutePar1': (0.0001, 0.1),\n",
       " 'AdultAcutePar2': (-9, -1),\n",
       " 'LarvaAcutePar1': (0.0001, 0.1),\n",
       " 'LarvaAcutePar2': (-9, -1)}"
      ]
     },
     "execution_count": 5,
     "metadata": {},
     "output_type": "execute_result"
    }
   ],
   "source": [
    "limits"
   ]
  },
  {
   "cell_type": "code",
   "execution_count": 5,
   "metadata": {},
   "outputs": [],
   "source": [
    "# Set our distance function and sampler\n",
    "distance = pyabc.PNormDistance(p=1) #this is a distance function \n",
    "\n",
    "sampler = DaskDistributedSampler(dask_client = client) #This is distributes the jobs to the workers, I think? \n",
    "\n",
    "transition = LocalTransition() #local KDE fit following the move from one population to the next. You can specifiy different function si fyou want \n",
    "                               "
   ]
  },
  {
   "cell_type": "code",
   "execution_count": 6,
   "metadata": {},
   "outputs": [],
   "source": [
    "# define the ABCSMC object\n",
    "#Note that population size default is 100; that is, it will take 100 samples to build a population with before it moves on to the next particle \n",
    "#So, the total number of simulations would be the following calculation: First, take number of reps from a single parameterization that you need to get a sample, say 10 reps of each concentration(so, 10*6 = 160).\n",
    "#, then, start \n",
    "#abc = ABCSMC(simulate, prior, distance,\n",
    "#             population_size=2,\n",
    "#             transitions = transition,\n",
    "#             sampler=sampler)\n",
    "\n",
    "\n",
    "abc = ABCSMC(simulate, prior, distance,\n",
    "             population_size=2,\n",
    "             transitions = transition)\n",
    "\n",
    "\n",
    "\n",
    "#Note, Epsilon( the difference criterion) is assumed to be the default in this function(which is the median of the past population, I think); we'll have to look into that. \n",
    "#The goal is to make an number of sequential populations with increasingly relevant paramter values. You start with a uniform\n",
    "#distribution as the prior, and then move to KDEs of the past populations. "
   ]
  },
  {
   "cell_type": "code",
   "execution_count": 7,
   "metadata": {},
   "outputs": [
    {
     "name": "stderr",
     "output_type": "stream",
     "text": [
      "INFO:History:Start <ABCSMC(id=2, start_time=2020-07-30 11:51:40.587080, end_time=None)>\n"
     ]
    },
    {
     "data": {
      "text/plain": [
       "2"
      ]
     },
     "execution_count": 7,
     "metadata": {},
     "output_type": "execute_result"
    }
   ],
   "source": [
    "# Initialize a new ABC inference run\n",
    "#db_path = (\"sqlite:///\" +\n",
    "#           os.path.join(tempfile.gettempdir(), \"test.db\"))\n",
    "database_dir = 'C:/Users/DDawso01/repos/ABCSQL'  # path for AWS EBS\n",
    "#os.mkdir(database_dir)\n",
    "db_path = (\"sqlite:///\" +\n",
    "           os.path.join(database_dir, \"run_test_updated.db\"))\n",
    "abc.new(db_path, study_data)"
   ]
  },
  {
   "cell_type": "code",
   "execution_count": null,
   "metadata": {},
   "outputs": [],
   "source": []
  },
  {
   "cell_type": "code",
   "execution_count": 8,
   "metadata": {
    "scrolled": true
   },
   "outputs": [
    {
     "name": "stderr",
     "output_type": "stream",
     "text": [
      "INFO:Epsilon:initial epsilon is 2371580.1155399857\n",
      "INFO:ABC:t:0 eps:2371580.1155399857\n",
      "INFO:ABC:t:1 eps:2291662.845159529\n"
     ]
    },
    {
     "ename": "KeyboardInterrupt",
     "evalue": "",
     "output_type": "error",
     "traceback": [
      "\u001b[1;31m---------------------------------------------------------------------------\u001b[0m",
      "\u001b[1;31mKeyboardInterrupt\u001b[0m                         Traceback (most recent call last)",
      "\u001b[1;32m<ipython-input-8-d755f73518bd>\u001b[0m in \u001b[0;36m<module>\u001b[1;34m\u001b[0m\n\u001b[1;32m----> 1\u001b[1;33m \u001b[0mhistory\u001b[0m \u001b[1;33m=\u001b[0m \u001b[0mabc\u001b[0m\u001b[1;33m.\u001b[0m\u001b[0mrun\u001b[0m\u001b[1;33m(\u001b[0m\u001b[0mmax_nr_populations\u001b[0m\u001b[1;33m=\u001b[0m\u001b[1;36m2\u001b[0m\u001b[1;33m,\u001b[0m \u001b[0mminimum_epsilon\u001b[0m\u001b[1;33m=\u001b[0m\u001b[1;36m0.5\u001b[0m\u001b[1;33m)\u001b[0m \u001b[1;31m#\u001b[0m\u001b[1;33m\u001b[0m\u001b[1;33m\u001b[0m\u001b[0m\n\u001b[0m",
      "\u001b[1;32m~\\AppData\\Roaming\\Python\\Python37\\site-packages\\pyabc\\smc.py\u001b[0m in \u001b[0;36mrun\u001b[1;34m(self, minimum_epsilon, max_nr_populations, min_acceptance_rate, **kwargs)\u001b[0m\n\u001b[0;32m    809\u001b[0m             \u001b[1;31m# perform the sampling\u001b[0m\u001b[1;33m\u001b[0m\u001b[1;33m\u001b[0m\u001b[1;33m\u001b[0m\u001b[0m\n\u001b[0;32m    810\u001b[0m             sample = self.sampler.sample_until_n_accepted(\n\u001b[1;32m--> 811\u001b[1;33m                 self.population_strategy.nr_particles, simulate_one)\n\u001b[0m\u001b[0;32m    812\u001b[0m \u001b[1;33m\u001b[0m\u001b[0m\n\u001b[0;32m    813\u001b[0m             \u001b[1;31m# retrieve accepted population\u001b[0m\u001b[1;33m\u001b[0m\u001b[1;33m\u001b[0m\u001b[1;33m\u001b[0m\u001b[0m\n",
      "\u001b[1;32m~\\AppData\\Roaming\\Python\\Python37\\site-packages\\pyabc\\sampler\\base.py\u001b[0m in \u001b[0;36msample_until_n_accepted\u001b[1;34m(self, n, simulate_one, all_accepted)\u001b[0m\n\u001b[0;32m    138\u001b[0m     \"\"\"\n\u001b[0;32m    139\u001b[0m     \u001b[1;32mdef\u001b[0m \u001b[0msample_until_n_accepted\u001b[0m\u001b[1;33m(\u001b[0m\u001b[0mself\u001b[0m\u001b[1;33m,\u001b[0m \u001b[0mn\u001b[0m\u001b[1;33m,\u001b[0m \u001b[0msimulate_one\u001b[0m\u001b[1;33m,\u001b[0m \u001b[0mall_accepted\u001b[0m\u001b[1;33m=\u001b[0m\u001b[1;32mFalse\u001b[0m\u001b[1;33m)\u001b[0m\u001b[1;33m:\u001b[0m\u001b[1;33m\u001b[0m\u001b[1;33m\u001b[0m\u001b[0m\n\u001b[1;32m--> 140\u001b[1;33m         \u001b[0msample\u001b[0m \u001b[1;33m=\u001b[0m \u001b[0mf\u001b[0m\u001b[1;33m(\u001b[0m\u001b[0mself\u001b[0m\u001b[1;33m,\u001b[0m \u001b[0mn\u001b[0m\u001b[1;33m,\u001b[0m \u001b[0msimulate_one\u001b[0m\u001b[1;33m,\u001b[0m \u001b[0mall_accepted\u001b[0m\u001b[1;33m)\u001b[0m\u001b[1;33m\u001b[0m\u001b[1;33m\u001b[0m\u001b[0m\n\u001b[0m\u001b[0;32m    141\u001b[0m         \u001b[1;32mif\u001b[0m \u001b[0msample\u001b[0m\u001b[1;33m.\u001b[0m\u001b[0mn_accepted\u001b[0m \u001b[1;33m!=\u001b[0m \u001b[0mn\u001b[0m\u001b[1;33m:\u001b[0m\u001b[1;33m\u001b[0m\u001b[1;33m\u001b[0m\u001b[0m\n\u001b[0;32m    142\u001b[0m             raise AssertionError(\n",
      "\u001b[1;32m~\\AppData\\Roaming\\Python\\Python37\\site-packages\\pyabc\\sampler\\singlecore.py\u001b[0m in \u001b[0;36msample_until_n_accepted\u001b[1;34m(self, n, simulate_one, all_accepted)\u001b[0m\n\u001b[0;32m     13\u001b[0m         \u001b[1;32mfor\u001b[0m \u001b[0m_\u001b[0m \u001b[1;32min\u001b[0m \u001b[0mrange\u001b[0m\u001b[1;33m(\u001b[0m\u001b[0mn\u001b[0m\u001b[1;33m)\u001b[0m\u001b[1;33m:\u001b[0m\u001b[1;33m\u001b[0m\u001b[1;33m\u001b[0m\u001b[0m\n\u001b[0;32m     14\u001b[0m             \u001b[1;32mwhile\u001b[0m \u001b[1;32mTrue\u001b[0m\u001b[1;33m:\u001b[0m\u001b[1;33m\u001b[0m\u001b[1;33m\u001b[0m\u001b[0m\n\u001b[1;32m---> 15\u001b[1;33m                 \u001b[0mnew_sim\u001b[0m \u001b[1;33m=\u001b[0m \u001b[0msimulate_one\u001b[0m\u001b[1;33m(\u001b[0m\u001b[1;33m)\u001b[0m\u001b[1;33m\u001b[0m\u001b[1;33m\u001b[0m\u001b[0m\n\u001b[0m\u001b[0;32m     16\u001b[0m                 \u001b[0msample\u001b[0m\u001b[1;33m.\u001b[0m\u001b[0mappend\u001b[0m\u001b[1;33m(\u001b[0m\u001b[0mnew_sim\u001b[0m\u001b[1;33m)\u001b[0m\u001b[1;33m\u001b[0m\u001b[1;33m\u001b[0m\u001b[0m\n\u001b[0;32m     17\u001b[0m                 \u001b[0mnr_simulations\u001b[0m \u001b[1;33m+=\u001b[0m \u001b[1;36m1\u001b[0m\u001b[1;33m\u001b[0m\u001b[1;33m\u001b[0m\u001b[0m\n",
      "\u001b[1;32m~\\AppData\\Roaming\\Python\\Python37\\site-packages\\pyabc\\smc.py\u001b[0m in \u001b[0;36msimulate_one\u001b[1;34m()\u001b[0m\n\u001b[0;32m    564\u001b[0m                 \u001b[0mparameter_priors\u001b[0m\u001b[1;33m,\u001b[0m\u001b[1;33m\u001b[0m\u001b[1;33m\u001b[0m\u001b[0m\n\u001b[0;32m    565\u001b[0m                 \u001b[0mmodel_perturbation_kernel\u001b[0m\u001b[1;33m,\u001b[0m\u001b[1;33m\u001b[0m\u001b[1;33m\u001b[0m\u001b[0m\n\u001b[1;32m--> 566\u001b[1;33m                 transitions)\n\u001b[0m\u001b[0;32m    567\u001b[0m             \u001b[1;32mreturn\u001b[0m \u001b[0mparticle\u001b[0m\u001b[1;33m\u001b[0m\u001b[1;33m\u001b[0m\u001b[0m\n\u001b[0;32m    568\u001b[0m \u001b[1;33m\u001b[0m\u001b[0m\n",
      "\u001b[1;32m~\\AppData\\Roaming\\Python\\Python37\\site-packages\\pyabc\\smc.py\u001b[0m in \u001b[0;36m_evaluate_proposal\u001b[1;34m(m_ss, theta_ss, t, model_probabilities, nr_samples_per_parameter, models, summary_statistics, distance_function, eps, acceptor, x_0, model_prior, parameter_priors, model_perturbation_kernel, transitions)\u001b[0m\n\u001b[0;32m    655\u001b[0m                 \u001b[0meps\u001b[0m\u001b[1;33m,\u001b[0m\u001b[1;33m\u001b[0m\u001b[1;33m\u001b[0m\u001b[0m\n\u001b[0;32m    656\u001b[0m                 \u001b[0macceptor\u001b[0m\u001b[1;33m,\u001b[0m\u001b[1;33m\u001b[0m\u001b[1;33m\u001b[0m\u001b[0m\n\u001b[1;32m--> 657\u001b[1;33m                 x_0)\n\u001b[0m\u001b[0;32m    658\u001b[0m             \u001b[1;32mif\u001b[0m \u001b[0mmodel_result\u001b[0m\u001b[1;33m.\u001b[0m\u001b[0maccepted\u001b[0m\u001b[1;33m:\u001b[0m\u001b[1;33m\u001b[0m\u001b[1;33m\u001b[0m\u001b[0m\n\u001b[0;32m    659\u001b[0m                 \u001b[0maccepted_sum_stats\u001b[0m\u001b[1;33m.\u001b[0m\u001b[0mappend\u001b[0m\u001b[1;33m(\u001b[0m\u001b[0mmodel_result\u001b[0m\u001b[1;33m.\u001b[0m\u001b[0msum_stats\u001b[0m\u001b[1;33m)\u001b[0m\u001b[1;33m\u001b[0m\u001b[1;33m\u001b[0m\u001b[0m\n",
      "\u001b[1;32m~\\AppData\\Roaming\\Python\\Python37\\site-packages\\pyabc\\model.py\u001b[0m in \u001b[0;36maccept\u001b[1;34m(self, t, pars, sum_stats_calculator, distance_calculator, eps_calculator, acceptor, x_0)\u001b[0m\n\u001b[0;32m    220\u001b[0m         result = self.summary_statistics(t,\n\u001b[0;32m    221\u001b[0m                                          \u001b[0mpars\u001b[0m\u001b[1;33m,\u001b[0m\u001b[1;33m\u001b[0m\u001b[1;33m\u001b[0m\u001b[0m\n\u001b[1;32m--> 222\u001b[1;33m                                          sum_stats_calculator)\n\u001b[0m\u001b[0;32m    223\u001b[0m         distance, accepted = acceptor(t,\n\u001b[0;32m    224\u001b[0m                                       \u001b[0mdistance_calculator\u001b[0m\u001b[1;33m,\u001b[0m\u001b[1;33m\u001b[0m\u001b[1;33m\u001b[0m\u001b[0m\n",
      "\u001b[1;32m~\\AppData\\Roaming\\Python\\Python37\\site-packages\\pyabc\\model.py\u001b[0m in \u001b[0;36msummary_statistics\u001b[1;34m(self, t, pars, sum_stats_calculator)\u001b[0m\n\u001b[0;32m    114\u001b[0m             \u001b[0mThe\u001b[0m \u001b[0mresult\u001b[0m \u001b[1;32mwith\u001b[0m \u001b[0mfilled\u001b[0m \u001b[0msummary\u001b[0m \u001b[0mstatistics\u001b[0m\u001b[1;33m.\u001b[0m\u001b[1;33m\u001b[0m\u001b[1;33m\u001b[0m\u001b[0m\n\u001b[0;32m    115\u001b[0m         \"\"\"\n\u001b[1;32m--> 116\u001b[1;33m         \u001b[0mraw_data\u001b[0m \u001b[1;33m=\u001b[0m \u001b[0mself\u001b[0m\u001b[1;33m.\u001b[0m\u001b[0msample\u001b[0m\u001b[1;33m(\u001b[0m\u001b[0mpars\u001b[0m\u001b[1;33m)\u001b[0m\u001b[1;33m\u001b[0m\u001b[1;33m\u001b[0m\u001b[0m\n\u001b[0m\u001b[0;32m    117\u001b[0m         \u001b[0msum_stats\u001b[0m \u001b[1;33m=\u001b[0m \u001b[0msum_stats_calculator\u001b[0m\u001b[1;33m(\u001b[0m\u001b[0mraw_data\u001b[0m\u001b[1;33m)\u001b[0m\u001b[1;33m\u001b[0m\u001b[1;33m\u001b[0m\u001b[0m\n\u001b[0;32m    118\u001b[0m         \u001b[1;32mreturn\u001b[0m \u001b[0mModelResult\u001b[0m\u001b[1;33m(\u001b[0m\u001b[0msum_stats\u001b[0m\u001b[1;33m=\u001b[0m\u001b[0msum_stats\u001b[0m\u001b[1;33m)\u001b[0m\u001b[1;33m\u001b[0m\u001b[1;33m\u001b[0m\u001b[0m\n",
      "\u001b[1;32m~\\AppData\\Roaming\\Python\\Python37\\site-packages\\pyabc\\model.py\u001b[0m in \u001b[0;36msample\u001b[1;34m(self, pars)\u001b[0m\n\u001b[0;32m    261\u001b[0m \u001b[1;33m\u001b[0m\u001b[0m\n\u001b[0;32m    262\u001b[0m     \u001b[1;32mdef\u001b[0m \u001b[0msample\u001b[0m\u001b[1;33m(\u001b[0m\u001b[0mself\u001b[0m\u001b[1;33m,\u001b[0m \u001b[0mpars\u001b[0m\u001b[1;33m:\u001b[0m \u001b[0mParameter\u001b[0m\u001b[1;33m)\u001b[0m\u001b[1;33m:\u001b[0m\u001b[1;33m\u001b[0m\u001b[1;33m\u001b[0m\u001b[0m\n\u001b[1;32m--> 263\u001b[1;33m         \u001b[1;32mreturn\u001b[0m \u001b[0mself\u001b[0m\u001b[1;33m.\u001b[0m\u001b[0msample_function\u001b[0m\u001b[1;33m(\u001b[0m\u001b[0mpars\u001b[0m\u001b[1;33m)\u001b[0m\u001b[1;33m\u001b[0m\u001b[1;33m\u001b[0m\u001b[0m\n\u001b[0m\u001b[0;32m    264\u001b[0m \u001b[1;33m\u001b[0m\u001b[0m\n\u001b[0;32m    265\u001b[0m     \u001b[1;33m@\u001b[0m\u001b[0mstaticmethod\u001b[0m\u001b[1;33m\u001b[0m\u001b[1;33m\u001b[0m\u001b[0m\n",
      "\u001b[1;32m~\\repos\\bee_neonic_abc\\tools\\DataSimulator_BeeHaveV4_072020.py\u001b[0m in \u001b[0;36msimulate\u001b[1;34m(param_priors)\u001b[0m\n\u001b[0;32m    112\u001b[0m         counts = netlogo.repeat_report(['TotalEggs', 'TotalIHBees', \n\u001b[0;32m    113\u001b[0m                                     \u001b[1;34m'TotalForagers'\u001b[0m\u001b[1;33m,\u001b[0m \u001b[1;34m'AFF'\u001b[0m\u001b[1;33m,\u001b[0m \u001b[1;34m'HoneyEnergyStore'\u001b[0m\u001b[1;33m,\u001b[0m\u001b[1;33m\u001b[0m\u001b[1;33m\u001b[0m\u001b[0m\n\u001b[1;32m--> 114\u001b[1;33m                                     'HoneyStorePesticideConc'], X_Days)\n\u001b[0m\u001b[0;32m    115\u001b[0m         \u001b[0mcounts\u001b[0m\u001b[1;33m.\u001b[0m\u001b[0miloc\u001b[0m\u001b[1;33m[\u001b[0m\u001b[1;36m0\u001b[0m\u001b[1;33m,\u001b[0m\u001b[1;36m0\u001b[0m\u001b[1;33m:\u001b[0m\u001b[1;36m4\u001b[0m\u001b[1;33m]\u001b[0m \u001b[1;33m=\u001b[0m \u001b[0mInitialCond\u001b[0m\u001b[1;33m[\u001b[0m\u001b[1;36m0\u001b[0m\u001b[1;33m:\u001b[0m\u001b[1;36m4\u001b[0m\u001b[1;33m]\u001b[0m \u001b[1;31m#fills in initial numbers\u001b[0m\u001b[1;33m\u001b[0m\u001b[1;33m\u001b[0m\u001b[0m\n\u001b[0;32m    116\u001b[0m         \u001b[1;32mif\u001b[0m \u001b[0mparam_values\u001b[0m\u001b[1;33m[\u001b[0m\u001b[0mi\u001b[0m\u001b[1;33m]\u001b[0m\u001b[1;33m[\u001b[0m\u001b[1;36m0\u001b[0m\u001b[1;33m]\u001b[0m \u001b[1;33m==\u001b[0m \u001b[1;36m160\u001b[0m\u001b[1;33m:\u001b[0m \u001b[1;31m#Note, need to make set this to the correct\u001b[0m\u001b[1;33m\u001b[0m\u001b[1;33m\u001b[0m\u001b[0m\n",
      "\u001b[1;32m~\\AppData\\Local\\Continuum\\anaconda3\\lib\\site-packages\\pyNetLogo\\core.py\u001b[0m in \u001b[0;36mrepeat_report\u001b[1;34m(self, netlogo_reporter, reps, go)\u001b[0m\n\u001b[0;32m    572\u001b[0m         \u001b[0mcommand\u001b[0m \u001b[1;33m=\u001b[0m \u001b[1;34m\" \"\u001b[0m\u001b[1;33m.\u001b[0m\u001b[0mjoin\u001b[0m\u001b[1;33m(\u001b[0m\u001b[1;33m(\u001b[0m\u001b[0mc_start\u001b[0m\u001b[1;33m,\u001b[0m \u001b[0mc_middle\u001b[0m\u001b[1;33m,\u001b[0m \u001b[0mc_close\u001b[0m\u001b[1;33m)\u001b[0m\u001b[1;33m)\u001b[0m\u001b[1;33m\u001b[0m\u001b[1;33m\u001b[0m\u001b[0m\n\u001b[0;32m    573\u001b[0m \u001b[1;33m\u001b[0m\u001b[0m\n\u001b[1;32m--> 574\u001b[1;33m         \u001b[0mself\u001b[0m\u001b[1;33m.\u001b[0m\u001b[0mcommand\u001b[0m\u001b[1;33m(\u001b[0m\u001b[0mcommand\u001b[0m\u001b[1;33m)\u001b[0m\u001b[1;33m\u001b[0m\u001b[1;33m\u001b[0m\u001b[0m\n\u001b[0m\u001b[0;32m    575\u001b[0m         \u001b[0mself\u001b[0m\u001b[1;33m.\u001b[0m\u001b[0mcommand\u001b[0m\u001b[1;33m(\u001b[0m\u001b[1;34m\"file-close-all\"\u001b[0m\u001b[1;33m)\u001b[0m\u001b[1;33m\u001b[0m\u001b[1;33m\u001b[0m\u001b[0m\n\u001b[0;32m    576\u001b[0m \u001b[1;33m\u001b[0m\u001b[0m\n",
      "\u001b[1;32m~\\AppData\\Local\\Continuum\\anaconda3\\lib\\site-packages\\pyNetLogo\\core.py\u001b[0m in \u001b[0;36mcommand\u001b[1;34m(self, netlogo_command)\u001b[0m\n\u001b[0;32m    332\u001b[0m \u001b[1;33m\u001b[0m\u001b[0m\n\u001b[0;32m    333\u001b[0m         \u001b[1;32mtry\u001b[0m\u001b[1;33m:\u001b[0m\u001b[1;33m\u001b[0m\u001b[1;33m\u001b[0m\u001b[0m\n\u001b[1;32m--> 334\u001b[1;33m             \u001b[0mself\u001b[0m\u001b[1;33m.\u001b[0m\u001b[0mlink\u001b[0m\u001b[1;33m.\u001b[0m\u001b[0mcommand\u001b[0m\u001b[1;33m(\u001b[0m\u001b[0mnetlogo_command\u001b[0m\u001b[1;33m)\u001b[0m\u001b[1;33m\u001b[0m\u001b[1;33m\u001b[0m\u001b[0m\n\u001b[0m\u001b[0;32m    335\u001b[0m         \u001b[1;32mexcept\u001b[0m \u001b[0mjpype\u001b[0m\u001b[1;33m.\u001b[0m\u001b[0mJException\u001b[0m \u001b[1;32mas\u001b[0m \u001b[0mex\u001b[0m\u001b[1;33m:\u001b[0m\u001b[1;33m\u001b[0m\u001b[1;33m\u001b[0m\u001b[0m\n\u001b[0;32m    336\u001b[0m             \u001b[0mprint\u001b[0m\u001b[1;33m(\u001b[0m\u001b[0mex\u001b[0m\u001b[1;33m.\u001b[0m\u001b[0mstacktrace\u001b[0m\u001b[1;33m(\u001b[0m\u001b[1;33m)\u001b[0m\u001b[1;33m)\u001b[0m\u001b[1;33m\u001b[0m\u001b[1;33m\u001b[0m\u001b[0m\n",
      "\u001b[1;31mKeyboardInterrupt\u001b[0m: "
     ]
    }
   ],
   "source": [
    "history = abc.run(max_nr_populations=2, minimum_epsilon=0.5) #"
   ]
  },
  {
   "cell_type": "code",
   "execution_count": 9,
   "metadata": {},
   "outputs": [
    {
     "ename": "NameError",
     "evalue": "name 'history' is not defined",
     "output_type": "error",
     "traceback": [
      "\u001b[1;31m---------------------------------------------------------------------------\u001b[0m",
      "\u001b[1;31mNameError\u001b[0m                                 Traceback (most recent call last)",
      "\u001b[1;32m<ipython-input-9-241e88be3677>\u001b[0m in \u001b[0;36m<module>\u001b[1;34m\u001b[0m\n\u001b[1;32m----> 1\u001b[1;33m \u001b[0mpop_data\u001b[0m \u001b[1;33m=\u001b[0m \u001b[0mhistory\u001b[0m\u001b[1;33m.\u001b[0m\u001b[0mget_all_populations\u001b[0m\u001b[1;33m(\u001b[0m\u001b[1;33m)\u001b[0m\u001b[1;33m\u001b[0m\u001b[1;33m\u001b[0m\u001b[0m\n\u001b[0m\u001b[0;32m      2\u001b[0m \u001b[0mpop_data\u001b[0m\u001b[1;33m\u001b[0m\u001b[1;33m\u001b[0m\u001b[0m\n",
      "\u001b[1;31mNameError\u001b[0m: name 'history' is not defined"
     ]
    }
   ],
   "source": [
    "pop_data = history.get_all_populations()\n",
    "pop_data"
   ]
  },
  {
   "cell_type": "code",
   "execution_count": null,
   "metadata": {
    "scrolled": true
   },
   "outputs": [],
   "source": [
    "#get acceptance rates for each generation\n",
    "print(\"Acceptance rates\")\n",
    "for gen, samples, particles in zip(pop_data['t'],pop_data['samples'], pop_data['particles']):\n",
    "    if(samples>0):\n",
    "        print(\"Gen {}: {:.1f}%\".format(gen+1,particles/samples*100))"
   ]
  },
  {
   "cell_type": "code",
   "execution_count": null,
   "metadata": {},
   "outputs": [],
   "source": [
    "history.total_nr_simulations"
   ]
  },
  {
   "cell_type": "markdown",
   "metadata": {},
   "source": [
    "### Visualize results"
   ]
  },
  {
   "cell_type": "code",
   "execution_count": null,
   "metadata": {},
   "outputs": [],
   "source": [
    "df, w = history.get_distribution(m=0, t=history.max_t)\n",
    "plot_kde_matrix(df, w, limits=limits);"
   ]
  },
  {
   "cell_type": "code",
   "execution_count": null,
   "metadata": {},
   "outputs": [],
   "source": [
    "variable = 'AIAdultLD50'\n",
    "fig, ax = plt.subplots()\n",
    "for t in range(0,history.max_t+1):\n",
    "    df, w = history.get_distribution(m=0, t=t)\n",
    "    pyabc.visualization.plot_kde_1d(df, w, xmin=0.0001, xmax=0.1,\n",
    "                                   x=variable, ax=ax,\n",
    "                                   label=\"PDF t={}\".format(t))\n",
    "x, pdf = kde_1d(df,w,variable, numx = 200)\n",
    "MAP = x[np.where(np.max(pdf)==pdf)]\n",
    "plt.axvline(x=MAP.item(),color='black')\n",
    "ax.legend()\n",
    "ax.annotate('Max: {:.2f} ng/bee'.format(MAP.item()), xy = (0.05,0.75))\n",
    "plt.show()"
   ]
  },
  {
   "cell_type": "code",
   "execution_count": null,
   "metadata": {},
   "outputs": [],
   "source": [
    "variable = 'ICForagerLifespan_mean'\n",
    "fig, ax = plt.subplots()\n",
    "for t in range(0,history.max_t + 1,1):\n",
    "    df, w = history.get_distribution(m=0, t=t)\n",
    "    pyabc.visualization.plot_kde_1d(df, w, xmin=4, xmax=16,\n",
    "                                   x=variable, ax=ax,\n",
    "                                   label=\"PDF t={}\".format(t))\n",
    "x, pdf = kde_1d(df,w,variable, numx = 200)\n",
    "MAP = x[np.where(np.max(pdf)==pdf)]\n",
    "ax.legend()\n",
    "plt.axvline(x=MAP.item(),color='black')\n",
    "#ax.annotate('Max: {:.2f} days'.format(MAP.item()), xy = (5.5,0.4))\n",
    "ax.legend()\n",
    "plt.show()"
   ]
  },
  {
   "cell_type": "markdown",
   "metadata": {},
   "source": [
    "### Visualize from a stored run"
   ]
  },
  {
   "cell_type": "code",
   "execution_count": 10,
   "metadata": {},
   "outputs": [],
   "source": [
    "#retrieve stored run - run ID 1\n",
    "#database_dir = 'results_db/'\n",
    "#db_path = (\"sqlite:///\" +\n",
    "#           os.path.join(database_dir, \"run_11_18.db\"))\n",
    "history = History(db_path)\n",
    "#history.id = 1"
   ]
  },
  {
   "cell_type": "code",
   "execution_count": null,
   "metadata": {},
   "outputs": [],
   "source": [
    "#df, w = history.get_distribution(m=0, t=history.max_t)"
   ]
  },
  {
   "cell_type": "code",
   "execution_count": null,
   "metadata": {},
   "outputs": [],
   "source": [
    "#plot_kde_matrix(df, w, limits=limits);"
   ]
  },
  {
   "cell_type": "code",
   "execution_count": 11,
   "metadata": {
    "scrolled": true
   },
   "outputs": [
    {
     "data": {
      "text/html": [
       "<div>\n",
       "<style scoped>\n",
       "    .dataframe tbody tr th:only-of-type {\n",
       "        vertical-align: middle;\n",
       "    }\n",
       "\n",
       "    .dataframe tbody tr th {\n",
       "        vertical-align: top;\n",
       "    }\n",
       "\n",
       "    .dataframe thead th {\n",
       "        text-align: right;\n",
       "    }\n",
       "</style>\n",
       "<table border=\"1\" class=\"dataframe\">\n",
       "  <thead>\n",
       "    <tr style=\"text-align: right;\">\n",
       "      <th></th>\n",
       "      <th>t</th>\n",
       "      <th>population_end_time</th>\n",
       "      <th>samples</th>\n",
       "      <th>epsilon</th>\n",
       "      <th>particles</th>\n",
       "    </tr>\n",
       "  </thead>\n",
       "  <tbody>\n",
       "    <tr>\n",
       "      <td>0</td>\n",
       "      <td>-1</td>\n",
       "      <td>2020-07-30 11:51:44.344273</td>\n",
       "      <td>2</td>\n",
       "      <td>inf</td>\n",
       "      <td>1</td>\n",
       "    </tr>\n",
       "    <tr>\n",
       "      <td>1</td>\n",
       "      <td>0</td>\n",
       "      <td>2020-07-30 12:46:41.100367</td>\n",
       "      <td>11</td>\n",
       "      <td>2.371580e+06</td>\n",
       "      <td>2</td>\n",
       "    </tr>\n",
       "  </tbody>\n",
       "</table>\n",
       "</div>"
      ],
      "text/plain": [
       "   t        population_end_time  samples       epsilon  particles\n",
       "0 -1 2020-07-30 11:51:44.344273        2           inf          1\n",
       "1  0 2020-07-30 12:46:41.100367       11  2.371580e+06          2"
      ]
     },
     "execution_count": 11,
     "metadata": {},
     "output_type": "execute_result"
    }
   ],
   "source": [
    "history.get_all_populations()"
   ]
  },
  {
   "cell_type": "markdown",
   "metadata": {},
   "source": [
    "### Continuing a stopped run"
   ]
  },
  {
   "cell_type": "code",
   "execution_count": null,
   "metadata": {},
   "outputs": [],
   "source": [
    "#retrieve stored run \n",
    "database_dir = 'results_db/'\n",
    "db_path = (\"sqlite:///\" +\n",
    "           os.path.join(database_dir, \"run_3_11_2.db\"))\n",
    "#db = History(db_path)\n",
    "#db.id = 3"
   ]
  },
  {
   "cell_type": "code",
   "execution_count": null,
   "metadata": {},
   "outputs": [],
   "source": [
    "# define the ABCSMC object\n",
    "#abc_cont = ABCSMC(simulate, prior, distance,\n",
    "#             population_size=AdaptivePopulationSize(100, max_population_size = 100),\n",
    "#             transitions = transition,\n",
    "#             sampler=sampler)"
   ]
  },
  {
   "cell_type": "code",
   "execution_count": null,
   "metadata": {},
   "outputs": [],
   "source": [
    "#abc_cont.load(db_path,1)"
   ]
  },
  {
   "cell_type": "code",
   "execution_count": null,
   "metadata": {},
   "outputs": [],
   "source": [
    "#abc_cont.run(minimum_epsilon=0, max_nr_populations=100)"
   ]
  }
 ],
 "metadata": {
  "kernelspec": {
   "display_name": "Python 3",
   "language": "python",
   "name": "python3"
  },
  "language_info": {
   "codemirror_mode": {
    "name": "ipython",
    "version": 3
   },
   "file_extension": ".py",
   "mimetype": "text/x-python",
   "name": "python",
   "nbconvert_exporter": "python",
   "pygments_lexer": "ipython3",
   "version": "3.8.2"
  }
 },
 "nbformat": 4,
 "nbformat_minor": 4
}
